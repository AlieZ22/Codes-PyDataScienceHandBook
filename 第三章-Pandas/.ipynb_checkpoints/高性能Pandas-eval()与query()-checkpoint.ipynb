{
 "cells": [
  {
   "cell_type": "code",
   "execution_count": 3,
   "metadata": {
    "collapsed": false
   },
   "outputs": [
    {
     "name": "stdout",
     "output_type": "stream",
     "text": [
      "100 loops, best of 3: 4.19 ms per loop\n"
     ]
    }
   ],
   "source": [
    "import numpy as np\n",
    "rng = np.random.RandomState(42)\n",
    "x = rng.rand(10**6)\n",
    "y = rng.rand(10**6)\n",
    "%timeit x+y"
   ]
  },
  {
   "cell_type": "code",
   "execution_count": 6,
   "metadata": {
    "collapsed": true
   },
   "outputs": [],
   "source": [
    "mask = (x>0.5)&(y<0.5)"
   ]
  },
  {
   "cell_type": "code",
   "execution_count": 4,
   "metadata": {
    "collapsed": true
   },
   "outputs": [],
   "source": [
    "# 但是这种向量化运算在处理复合代数式的时候，效率较低\n",
    "# 因为，每段中间过程都需要显式分配内存\n",
    "# 而Numexpr程序库可以不为中间过程分配全部内存的前提下，完成复合代数运算"
   ]
  },
  {
   "cell_type": "code",
   "execution_count": 7,
   "metadata": {
    "collapsed": false
   },
   "outputs": [
    {
     "data": {
      "text/plain": [
       "True"
      ]
     },
     "execution_count": 7,
     "metadata": {},
     "output_type": "execute_result"
    }
   ],
   "source": [
    "import numexpr\n",
    "mask_numexpr = numexpr.evaluate('(x>0.5)&(y<0.5)')\n",
    "np.allclose(mask,mask_numexpr)"
   ]
  },
  {
   "cell_type": "code",
   "execution_count": 8,
   "metadata": {
    "collapsed": true
   },
   "outputs": [],
   "source": [
    "# 用Pandas.eval()实现高性能运算\n",
    "import pandas as pd\n",
    "nrows, ncols = 100000,100\n",
    "rng = np.random.RandomState(42)\n",
    "df1,df2,df3,df4 = (pd.DataFrame(rng.rand(nrows,ncols)) for i in range(4))"
   ]
  },
  {
   "cell_type": "code",
   "execution_count": 9,
   "metadata": {
    "collapsed": false
   },
   "outputs": [
    {
     "name": "stdout",
     "output_type": "stream",
     "text": [
      "10 loops, best of 3: 115 ms per loop\n"
     ]
    }
   ],
   "source": [
    "# 普通pandas方法\n",
    "%timeit df1+df2+df3+df4"
   ]
  },
  {
   "cell_type": "code",
   "execution_count": 10,
   "metadata": {
    "collapsed": false
   },
   "outputs": [
    {
     "name": "stdout",
     "output_type": "stream",
     "text": [
      "10 loops, best of 3: 47.8 ms per loop\n"
     ]
    }
   ],
   "source": [
    "# pd.eval()和字符串代数式方法 (基于Numexpr实现)\n",
    "%timeit pd.eval('df1+df2+df3+df4')"
   ]
  },
  {
   "cell_type": "code",
   "execution_count": 11,
   "metadata": {
    "collapsed": false
   },
   "outputs": [
    {
     "data": {
      "text/plain": [
       "True"
      ]
     },
     "execution_count": 11,
     "metadata": {},
     "output_type": "execute_result"
    }
   ],
   "source": [
    "# 验证两种方法的结果一样\n",
    "np.allclose(df1+df2+df3+df4,pd.eval('df1+df2+df3+df4'))"
   ]
  },
  {
   "cell_type": "code",
   "execution_count": 12,
   "metadata": {
    "collapsed": true
   },
   "outputs": [],
   "source": [
    "# pd.eval()支持的运算\n",
    "# 1，算术运算\n",
    "# 2，比较运算\n",
    "# 3，位运算\n",
    "# 4，对象属性与索引\n",
    "# 5，不支持函数调用、条件语句、循环等更复杂的运算"
   ]
  },
  {
   "cell_type": "code",
   "execution_count": 13,
   "metadata": {
    "collapsed": false
   },
   "outputs": [
    {
     "data": {
      "text/plain": [
       "True"
      ]
     },
     "execution_count": 13,
     "metadata": {},
     "output_type": "execute_result"
    }
   ],
   "source": [
    "# 一个示例：链式代数式\n",
    "df1,df2,df3,df4 = (pd.DataFrame(rng.randint(0,1000,(100,3))) for i in range(4))\n",
    "result1 = (df1<df2)&(df2<=df3)&(df3!=df4)\n",
    "result2 = pd.eval('df1<df2<=df3!=df4')\n",
    "np.allclose(result1,result2)"
   ]
  },
  {
   "cell_type": "code",
   "execution_count": 14,
   "metadata": {
    "collapsed": false
   },
   "outputs": [
    {
     "data": {
      "text/html": [
       "<div>\n",
       "<table border=\"1\" class=\"dataframe\">\n",
       "  <thead>\n",
       "    <tr style=\"text-align: right;\">\n",
       "      <th></th>\n",
       "      <th>A</th>\n",
       "      <th>B</th>\n",
       "      <th>C</th>\n",
       "    </tr>\n",
       "  </thead>\n",
       "  <tbody>\n",
       "    <tr>\n",
       "      <th>0</th>\n",
       "      <td>0.067497</td>\n",
       "      <td>0.023679</td>\n",
       "      <td>0.800495</td>\n",
       "    </tr>\n",
       "    <tr>\n",
       "      <th>1</th>\n",
       "      <td>0.247672</td>\n",
       "      <td>0.930917</td>\n",
       "      <td>0.107492</td>\n",
       "    </tr>\n",
       "    <tr>\n",
       "      <th>2</th>\n",
       "      <td>0.892389</td>\n",
       "      <td>0.401882</td>\n",
       "      <td>0.012611</td>\n",
       "    </tr>\n",
       "    <tr>\n",
       "      <th>3</th>\n",
       "      <td>0.819101</td>\n",
       "      <td>0.246383</td>\n",
       "      <td>0.875091</td>\n",
       "    </tr>\n",
       "    <tr>\n",
       "      <th>4</th>\n",
       "      <td>0.620237</td>\n",
       "      <td>0.204526</td>\n",
       "      <td>0.149660</td>\n",
       "    </tr>\n",
       "  </tbody>\n",
       "</table>\n",
       "</div>"
      ],
      "text/plain": [
       "          A         B         C\n",
       "0  0.067497  0.023679  0.800495\n",
       "1  0.247672  0.930917  0.107492\n",
       "2  0.892389  0.401882  0.012611\n",
       "3  0.819101  0.246383  0.875091\n",
       "4  0.620237  0.204526  0.149660"
      ]
     },
     "execution_count": 14,
     "metadata": {},
     "output_type": "execute_result"
    }
   ],
   "source": [
    "# 用DataFrame.eval()实现列间运算\n",
    "df = pd.DataFrame(rng.rand(1000,3),columns=list('ABC'))\n",
    "df.head()"
   ]
  },
  {
   "cell_type": "code",
   "execution_count": 15,
   "metadata": {
    "collapsed": false
   },
   "outputs": [
    {
     "data": {
      "text/plain": [
       "True"
      ]
     },
     "execution_count": 15,
     "metadata": {},
     "output_type": "execute_result"
    }
   ],
   "source": [
    "result1 = (df['A']+df['B'])/(df['C']-1)\n",
    "result2 = pd.eval(\"(df.A+df.B)/(df.C-1)\")\n",
    "np.allclose(result1,result2)"
   ]
  },
  {
   "cell_type": "code",
   "execution_count": 16,
   "metadata": {
    "collapsed": false
   },
   "outputs": [
    {
     "data": {
      "text/plain": [
       "True"
      ]
     },
     "execution_count": 16,
     "metadata": {},
     "output_type": "execute_result"
    }
   ],
   "source": [
    "result3 = df.eval('(A+B)/(C-1)')    # 实现简洁的代数式，列名称可以直接作为变量\n",
    "np.allclose(result1,result3)"
   ]
  },
  {
   "cell_type": "code",
   "execution_count": 17,
   "metadata": {
    "collapsed": false
   },
   "outputs": [
    {
     "data": {
      "text/html": [
       "<div>\n",
       "<table border=\"1\" class=\"dataframe\">\n",
       "  <thead>\n",
       "    <tr style=\"text-align: right;\">\n",
       "      <th></th>\n",
       "      <th>A</th>\n",
       "      <th>B</th>\n",
       "      <th>C</th>\n",
       "      <th>D</th>\n",
       "    </tr>\n",
       "  </thead>\n",
       "  <tbody>\n",
       "    <tr>\n",
       "      <th>0</th>\n",
       "      <td>0.067497</td>\n",
       "      <td>0.023679</td>\n",
       "      <td>0.800495</td>\n",
       "      <td>0.113899</td>\n",
       "    </tr>\n",
       "    <tr>\n",
       "      <th>1</th>\n",
       "      <td>0.247672</td>\n",
       "      <td>0.930917</td>\n",
       "      <td>0.107492</td>\n",
       "      <td>10.964414</td>\n",
       "    </tr>\n",
       "    <tr>\n",
       "      <th>2</th>\n",
       "      <td>0.892389</td>\n",
       "      <td>0.401882</td>\n",
       "      <td>0.012611</td>\n",
       "      <td>102.630345</td>\n",
       "    </tr>\n",
       "    <tr>\n",
       "      <th>3</th>\n",
       "      <td>0.819101</td>\n",
       "      <td>0.246383</td>\n",
       "      <td>0.875091</td>\n",
       "      <td>1.217570</td>\n",
       "    </tr>\n",
       "    <tr>\n",
       "      <th>4</th>\n",
       "      <td>0.620237</td>\n",
       "      <td>0.204526</td>\n",
       "      <td>0.149660</td>\n",
       "      <td>5.510902</td>\n",
       "    </tr>\n",
       "  </tbody>\n",
       "</table>\n",
       "</div>"
      ],
      "text/plain": [
       "          A         B         C           D\n",
       "0  0.067497  0.023679  0.800495    0.113899\n",
       "1  0.247672  0.930917  0.107492   10.964414\n",
       "2  0.892389  0.401882  0.012611  102.630345\n",
       "3  0.819101  0.246383  0.875091    1.217570\n",
       "4  0.620237  0.204526  0.149660    5.510902"
      ]
     },
     "execution_count": 17,
     "metadata": {},
     "output_type": "execute_result"
    }
   ],
   "source": [
    "df.eval('D=(A+B)/C',inplace=True)    # df.eval()还可以用来创建新的列\n",
    "df.head()"
   ]
  },
  {
   "cell_type": "code",
   "execution_count": 18,
   "metadata": {
    "collapsed": false
   },
   "outputs": [
    {
     "data": {
      "text/html": [
       "<div>\n",
       "<table border=\"1\" class=\"dataframe\">\n",
       "  <thead>\n",
       "    <tr style=\"text-align: right;\">\n",
       "      <th></th>\n",
       "      <th>A</th>\n",
       "      <th>B</th>\n",
       "      <th>C</th>\n",
       "      <th>D</th>\n",
       "    </tr>\n",
       "  </thead>\n",
       "  <tbody>\n",
       "    <tr>\n",
       "      <th>0</th>\n",
       "      <td>0.067497</td>\n",
       "      <td>0.023679</td>\n",
       "      <td>0.800495</td>\n",
       "      <td>0.054739</td>\n",
       "    </tr>\n",
       "    <tr>\n",
       "      <th>1</th>\n",
       "      <td>0.247672</td>\n",
       "      <td>0.930917</td>\n",
       "      <td>0.107492</td>\n",
       "      <td>-6.356229</td>\n",
       "    </tr>\n",
       "    <tr>\n",
       "      <th>2</th>\n",
       "      <td>0.892389</td>\n",
       "      <td>0.401882</td>\n",
       "      <td>0.012611</td>\n",
       "      <td>38.895206</td>\n",
       "    </tr>\n",
       "    <tr>\n",
       "      <th>3</th>\n",
       "      <td>0.819101</td>\n",
       "      <td>0.246383</td>\n",
       "      <td>0.875091</td>\n",
       "      <td>0.654467</td>\n",
       "    </tr>\n",
       "    <tr>\n",
       "      <th>4</th>\n",
       "      <td>0.620237</td>\n",
       "      <td>0.204526</td>\n",
       "      <td>0.149660</td>\n",
       "      <td>2.777701</td>\n",
       "    </tr>\n",
       "  </tbody>\n",
       "</table>\n",
       "</div>"
      ],
      "text/plain": [
       "          A         B         C          D\n",
       "0  0.067497  0.023679  0.800495   0.054739\n",
       "1  0.247672  0.930917  0.107492  -6.356229\n",
       "2  0.892389  0.401882  0.012611  38.895206\n",
       "3  0.819101  0.246383  0.875091   0.654467\n",
       "4  0.620237  0.204526  0.149660   2.777701"
      ]
     },
     "execution_count": 18,
     "metadata": {},
     "output_type": "execute_result"
    }
   ],
   "source": [
    "df.eval('D=(A-B)/C',inplace=True)   # 修改已有列\n",
    "df.head()"
   ]
  },
  {
   "cell_type": "code",
   "execution_count": 20,
   "metadata": {
    "collapsed": false
   },
   "outputs": [
    {
     "data": {
      "text/plain": [
       "True"
      ]
     },
     "execution_count": 20,
     "metadata": {},
     "output_type": "execute_result"
    }
   ],
   "source": [
    "# DataFrame.eval()还支持通过@符号来使用Python局部变量\n",
    "column_mean = df.mean(1)\n",
    "result1 = df['A'] + column_mean\n",
    "result2 = df.eval('A+@column_mean')\n",
    "np.allclose(result1,result2)"
   ]
  },
  {
   "cell_type": "code",
   "execution_count": 23,
   "metadata": {
    "collapsed": false
   },
   "outputs": [
    {
     "data": {
      "text/plain": [
       "True"
      ]
     },
     "execution_count": 23,
     "metadata": {},
     "output_type": "execute_result"
    }
   ],
   "source": [
    "# 对于过滤运算，可以使用query()方法\n",
    "result1 = df[(df.A<0.5)&(df.B<0.5)]\n",
    "result2 = df.query('A<0.5 and B<0.5')\n",
    "np.allclose(result1,result2)"
   ]
  },
  {
   "cell_type": "code",
   "execution_count": 24,
   "metadata": {
    "collapsed": false
   },
   "outputs": [
    {
     "data": {
      "text/plain": [
       "True"
      ]
     },
     "execution_count": 24,
     "metadata": {},
     "output_type": "execute_result"
    }
   ],
   "source": [
    "# 同样支持使用局部变量\n",
    "Cmean = df['C'].mean()\n",
    "result1 = df[(df.A<Cmean)&(df.B<Cmean)]\n",
    "result2 = df.query('A<@Cmean and B<@Cmean')\n",
    "np.allclose(result1,result2)"
   ]
  }
 ],
 "metadata": {
  "kernelspec": {
   "display_name": "Python 3",
   "language": "python",
   "name": "python3"
  },
  "language_info": {
   "codemirror_mode": {
    "name": "ipython",
    "version": 3
   },
   "file_extension": ".py",
   "mimetype": "text/x-python",
   "name": "python",
   "nbconvert_exporter": "python",
   "pygments_lexer": "ipython3",
   "version": "3.6.8"
  }
 },
 "nbformat": 4,
 "nbformat_minor": 2
}
